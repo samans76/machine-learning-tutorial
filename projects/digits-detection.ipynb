{
 "cells": [
  {
   "cell_type": "markdown",
   "metadata": {},
   "source": [
    "### Import Dataset"
   ]
  },
  {
   "cell_type": "code",
   "execution_count": 142,
   "metadata": {},
   "outputs": [
    {
     "name": "stdout",
     "output_type": "stream",
     "text": [
      "[[ 0.  0.  5. ...  0.  0.  0.]\n",
      " [ 0.  0.  0. ... 10.  0.  0.]\n",
      " [ 0.  0.  0. ... 16.  9.  0.]\n",
      " ...\n",
      " [ 0.  0.  1. ...  6.  0.  0.]\n",
      " [ 0.  0.  2. ... 12.  0.  0.]\n",
      " [ 0.  0. 10. ... 12.  1.  0.]] [0 1 2 ... 8 9 8]\n",
      "(1797, 64) (1797,)\n"
     ]
    }
   ],
   "source": [
    "import matplotlib.pyplot as plt\n",
    "from sklearn.datasets import load_digits\n",
    "digits  = load_digits()\n",
    "\n",
    "x = digits.data\n",
    "y =  digits.target\n",
    "print(x,y)\n",
    "print(x.shape,y.shape)"
   ]
  },
  {
   "cell_type": "code",
   "execution_count": 143,
   "metadata": {},
   "outputs": [
    {
     "data": {
      "image/png": "[encoded data removed]",
      "text/plain": [
       "<Figure size 640x480 with 1 Axes>"
      ]
     },
     "metadata": {},
     "output_type": "display_data"
    },
    {
     "name": "stdout",
     "output_type": "stream",
     "text": [
      "4\n"
     ]
    }
   ],
   "source": [
    "plt.gray()\n",
    "plt.imshow(digits.images[100])\n",
    "plt.show()\n",
    "print(digits.target[100])"
   ]
  },
  {
   "cell_type": "markdown",
   "metadata": {},
   "source": [
    "### Evaluate Model Function"
   ]
  },
  {
   "cell_type": "code",
   "execution_count": 144,
   "metadata": {},
   "outputs": [],
   "source": [
    "from sklearn.metrics import accuracy_score, recall_score, precision_score\n",
    "\n",
    "def calculate_model_metrics(model, x_train, x_test, y_train, y_test):\n",
    "    y_train_pred = model.predict(x_train)\n",
    "    y_test_pred = model.predict(x_test)\n",
    "\n",
    "    accuracy_train = accuracy_score(y_train, y_train_pred)\n",
    "    accuracy_test = accuracy_score(y_test, y_test_pred)\n",
    "    precision_train = precision_score(y_train, y_train_pred, average=\"macro\")\n",
    "    precision_test = precision_score(y_test, y_test_pred, average=\"macro\")\n",
    "    recall_train = recall_score(y_train, y_train_pred, average=\"macro\")\n",
    "    recall_test = recall_score(y_test, y_test_pred, average=\"macro\")\n",
    "\n",
    "    print(\"accuracy_train  :\", accuracy_train)\n",
    "    print(\"accuracy_test   :\", accuracy_test)\n",
    "    print(\"precision_test  :\", precision_test)\n",
    "    print(\"recall_test     :\", recall_test)\n",
    "\n",
    "    return accuracy_train, accuracy_test, precision_train, precision_test, recall_train, recall_test"
   ]
  },
  {
   "cell_type": "markdown",
   "metadata": {},
   "source": [
    "### Normalize Data"
   ]
  },
  {
   "cell_type": "code",
   "execution_count": 145,
   "metadata": {},
   "outputs": [
    {
     "name": "stdout",
     "output_type": "stream",
     "text": [
      "[[0.     0.     0.3125 ... 0.     0.     0.    ]\n",
      " [0.     0.     0.     ... 0.625  0.     0.    ]\n",
      " [0.     0.     0.     ... 1.     0.5625 0.    ]\n",
      " ...\n",
      " [0.     0.     0.0625 ... 0.375  0.     0.    ]\n",
      " [0.     0.     0.125  ... 0.75   0.     0.    ]\n",
      " [0.     0.     0.625  ... 0.75   0.0625 0.    ]]\n"
     ]
    }
   ],
   "source": [
    "from sklearn.preprocessing import MinMaxScaler\n",
    "scalar = MinMaxScaler(feature_range=(0,1))\n",
    "scalar.fit(x)\n",
    "x = scalar.transform(x)\n",
    "print(x)"
   ]
  },
  {
   "cell_type": "markdown",
   "metadata": {},
   "source": [
    "### Train/Test Data"
   ]
  },
  {
   "cell_type": "code",
   "execution_count": 146,
   "metadata": {},
   "outputs": [
    {
     "name": "stdout",
     "output_type": "stream",
     "text": [
      "1797 1437 360\n"
     ]
    }
   ],
   "source": [
    "from sklearn.model_selection import train_test_split\n",
    "\n",
    "x_train, x_test, y_train, y_test = train_test_split(x, y, test_size=0.2)\n",
    "print(len(x), len(x_train), len(x_test))"
   ]
  },
  {
   "cell_type": "markdown",
   "metadata": {},
   "source": [
    "### PCA (Reduce Data Dimensions)\n",
    "with this model you can reduce dimension of your inputs to make models faster & reduce overFitting"
   ]
  },
  {
   "cell_type": "code",
   "execution_count": 147,
   "metadata": {},
   "outputs": [
    {
     "name": "stdout",
     "output_type": "stream",
     "text": [
      "(1437, 64) (1437, 32)\n"
     ]
    }
   ],
   "source": [
    "from sklearn.decomposition import PCA\n",
    "\n",
    "pca = PCA(n_components=32) # Reduce dimensions to 3\n",
    "pca.fit(x_train)\n",
    "x_train_pca = pca.transform(x_train)\n",
    "x_test_pca = pca.transform(x_test)\n",
    "print(x_train.shape, x_train_pca.shape)"
   ]
  },
  {
   "cell_type": "markdown",
   "metadata": {},
   "source": [
    "### KNN Model"
   ]
  },
  {
   "cell_type": "code",
   "execution_count": 148,
   "metadata": {},
   "outputs": [
    {
     "name": "stdout",
     "output_type": "stream",
     "text": [
      "accuracy_train  : 0.9902574808629089\n",
      "accuracy_test   : 0.9805555555555555\n",
      "precision_test  : 0.9834471489745324\n",
      "recall_test     : 0.9781045261315328\n",
      "target          : 4\n",
      "predict         : [4]\n"
     ]
    },
    {
     "data": {
      "image/png": "[encoded data removed]",
      "text/plain": [
       "<Figure size 640x480 with 1 Axes>"
      ]
     },
     "metadata": {},
     "output_type": "display_data"
    }
   ],
   "source": [
    "from sklearn.neighbors import KNeighborsClassifier\n",
    "\n",
    "model = KNeighborsClassifier(n_neighbors=4)\n",
    "model.fit(x_train, y_train)\n",
    "knn_acc_train, knn_acc_test, knn_p_train , knn_p_test , knn_r_train , knn_r_test = calculate_model_metrics(model, x_train, x_test, y_train, y_test)\n",
    " \n",
    "test_idx = 19\n",
    "test = x_test[test_idx].reshape(1, -1)\n",
    "predict = model.predict(test)\n",
    "print(\"target          :\", y_test[test_idx])\n",
    "print(\"predict         :\", predict)\n",
    "\n",
    "plt.gray()\n",
    "plt.imshow(scalar.inverse_transform(test).reshape(8,8))\n",
    "plt.show()"
   ]
  },
  {
   "cell_type": "markdown",
   "metadata": {},
   "source": [
    "### KNN Model (PCA)"
   ]
  },
  {
   "cell_type": "code",
   "execution_count": 149,
   "metadata": {},
   "outputs": [
    {
     "name": "stdout",
     "output_type": "stream",
     "text": [
      "accuracy_train  : 0.9909533750869868\n",
      "accuracy_test   : 0.9805555555555555\n",
      "precision_test  : 0.9834471489745324\n",
      "recall_test     : 0.9781045261315328\n"
     ]
    }
   ],
   "source": [
    "from sklearn.neighbors import KNeighborsClassifier\n",
    "\n",
    "model = KNeighborsClassifier(n_neighbors=4)\n",
    "model.fit(x_train_pca, y_train)\n",
    "knn_acc_train_pca, knn_acc_test_pca, knn_p_train_pca , knn_p_test_pca , knn_r_train_pca , knn_r_test_pca = calculate_model_metrics(model, x_train_pca, x_test_pca, y_train, y_test)"
   ]
  },
  {
   "cell_type": "markdown",
   "metadata": {},
   "source": [
    "### Random Forest Model"
   ]
  },
  {
   "cell_type": "code",
   "execution_count": 168,
   "metadata": {},
   "outputs": [
    {
     "name": "stdout",
     "output_type": "stream",
     "text": [
      "accuracy_train  : 1.0\n",
      "accuracy_test   : 0.9694444444444444\n",
      "precision_test  : 0.9702987754711894\n",
      "recall_test     : 0.9668942235558889\n"
     ]
    }
   ],
   "source": [
    "from sklearn.ensemble import RandomForestClassifier\n",
    "\n",
    "model = RandomForestClassifier(n_estimators=30)\n",
    "model.fit(x_train, y_train)\n",
    "rf_acc_train, rf_acc_test, rf_p_train , rf_p_test , rf_r_train , rf_r_test = calculate_model_metrics(model, x_train, x_test, y_train, y_test)"
   ]
  },
  {
   "cell_type": "markdown",
   "metadata": {},
   "source": [
    "### Random Forest Model (PCA)"
   ]
  },
  {
   "cell_type": "code",
   "execution_count": 169,
   "metadata": {},
   "outputs": [
    {
     "name": "stdout",
     "output_type": "stream",
     "text": [
      "accuracy_train  : 1.0\n",
      "accuracy_test   : 0.9583333333333334\n",
      "precision_test  : 0.9609194740658153\n",
      "recall_test     : 0.9548827650928177\n"
     ]
    }
   ],
   "source": [
    "from sklearn.ensemble import RandomForestClassifier\n",
    "\n",
    "model = RandomForestClassifier(n_estimators=30)\n",
    "model.fit(x_train_pca, y_train)\n",
    "rf_acc_train_pca, rf_acc_test_pca, rf_p_train_pca , rf_p_test_pca , rf_r_train_pca , rf_r_test_pca = calculate_model_metrics(model, x_train_pca, x_test_pca, y_train, y_test)"
   ]
  },
  {
   "cell_type": "markdown",
   "metadata": {},
   "source": [
    "### SVM Model"
   ]
  },
  {
   "cell_type": "code",
   "execution_count": 152,
   "metadata": {},
   "outputs": [
    {
     "name": "stdout",
     "output_type": "stream",
     "text": [
      "accuracy_train  : 1.0\n",
      "accuracy_test   : 0.9694444444444444\n",
      "precision_test  : 0.9702322064958105\n",
      "recall_test     : 0.9675248541865195\n"
     ]
    }
   ],
   "source": [
    "from sklearn import svm\n",
    "\n",
    "svm.SVC(kernel=\"poly\")\n",
    "model.fit(x_train, y_train)\n",
    "svm_acc_train, svm_acc_test, svm_p_train , svm_p_test , svm_r_train , svm_r_test = calculate_model_metrics(model, x_train, x_test, y_train, y_test)"
   ]
  },
  {
   "cell_type": "markdown",
   "metadata": {},
   "source": [
    "### SVM Model (PCA)"
   ]
  },
  {
   "cell_type": "code",
   "execution_count": 153,
   "metadata": {},
   "outputs": [
    {
     "name": "stdout",
     "output_type": "stream",
     "text": [
      "accuracy_train  : 1.0\n",
      "accuracy_test   : 0.9638888888888889\n",
      "precision_test  : 0.9662613649612778\n",
      "recall_test     : 0.9620006606381326\n"
     ]
    }
   ],
   "source": [
    "from sklearn import svm\n",
    "\n",
    "svm.SVC(kernel=\"poly\")\n",
    "model.fit(x_train_pca, y_train)\n",
    "svm_acc_train_pca, svm_acc_test_pca, svm_p_train_pca , svm_p_test_pca , svm_r_train_pca , svm_r_test_pca = calculate_model_metrics(model, x_train_pca, x_test_pca, y_train, y_test)"
   ]
  },
  {
   "cell_type": "markdown",
   "metadata": {},
   "source": [
    "### ANN Model"
   ]
  },
  {
   "cell_type": "code",
   "execution_count": 170,
   "metadata": {},
   "outputs": [
    {
     "name": "stdout",
     "output_type": "stream",
     "text": [
      "accuracy_train  : 1.0\n",
      "accuracy_test   : 0.9861111111111112\n",
      "precision_test  : 0.987275659824047\n",
      "recall_test     : 0.9851867696653892\n"
     ]
    },
    {
     "name": "stderr",
     "output_type": "stream",
     "text": [
      "/home/samans76/.local/lib/python3.10/site-packages/sklearn/neural_network/_multilayer_perceptron.py:691: ConvergenceWarning: Stochastic Optimizer: Maximum iterations (180) reached and the optimization hasn't converged yet.\n",
      "  warnings.warn(\n"
     ]
    }
   ],
   "source": [
    "from sklearn.neural_network import MLPClassifier\n",
    "\n",
    "model = MLPClassifier(hidden_layer_sizes=[40], max_iter=180, activation=\"relu\", solver=\"adam\", batch_size=64)\n",
    "model.fit(x_train,y_train)\n",
    "ann_acc_train, ann_acc_test, ann_p_train , ann_p_test , ann_r_train , ann_r_test = calculate_model_metrics(model, x_train, x_test, y_train, y_test)"
   ]
  },
  {
   "cell_type": "markdown",
   "metadata": {},
   "source": [
    "### ANN Model (PCA)"
   ]
  },
  {
   "cell_type": "code",
   "execution_count": 171,
   "metadata": {},
   "outputs": [
    {
     "name": "stdout",
     "output_type": "stream",
     "text": [
      "accuracy_train  : 1.0\n",
      "accuracy_test   : 0.9805555555555555\n",
      "precision_test  : 0.9801020408163266\n",
      "recall_test     : 0.9775323295109493\n"
     ]
    }
   ],
   "source": [
    "from sklearn.neural_network import MLPClassifier\n",
    "\n",
    "model = MLPClassifier(hidden_layer_sizes=[40], max_iter=180, activation=\"relu\", solver=\"adam\", batch_size=64)\n",
    "model.fit(x_train_pca,y_train)\n",
    "ann_acc_train_pca, ann_acc_test_pca, ann_p_train_pca, ann_p_test_pca, ann_r_train_pca, ann_r_test_pca = calculate_model_metrics(model, x_train_pca, x_test_pca, y_train, y_test)"
   ]
  },
  {
   "cell_type": "markdown",
   "metadata": {},
   "source": [
    "### Comparison"
   ]
  },
  {
   "cell_type": "code",
   "execution_count": 156,
   "metadata": {},
   "outputs": [
    {
     "data": {
      "text/plain": [
       "Text(0, 0.5, 'Accuracy')"
      ]
     },
     "execution_count": 156,
     "metadata": {},
     "output_type": "execute_result"
    },
    {
     "data": {
      "image/png": "[encoded data removed]",
      "text/plain": [
       "<Figure size 640x480 with 1 Axes>"
      ]
     },
     "metadata": {},
     "output_type": "display_data"
    }
   ],
   "source": [
    "titles = [\"KNN\", \"RF\", \"SVM\", \"ANN\"]\n",
    "colors = [\"#005EBB\", \"#0055AA\", \"#004D99\", \"#004488\"]\n",
    "\n",
    "acc_train = [knn_acc_train, rf_acc_train, svm_acc_train, ann_acc_train]\n",
    "plt.bar(titles, acc_train, color=colors)\n",
    "plt.title('Accuracy Comparison (Train)')\n",
    "plt.xlabel('Models')\n",
    "plt.ylabel('Accuracy')"
   ]
  },
  {
   "cell_type": "code",
   "execution_count": 157,
   "metadata": {},
   "outputs": [
    {
     "data": {
      "text/plain": [
       "Text(0, 0.5, 'Accuracy')"
      ]
     },
     "execution_count": 157,
     "metadata": {},
     "output_type": "execute_result"
    },
    {
     "data": {
      "image/png": "[encoded data removed]",
      "text/plain": [
       "<Figure size 640x480 with 1 Axes>"
      ]
     },
     "metadata": {},
     "output_type": "display_data"
    }
   ],
   "source": [
    "acc_test = [knn_acc_test, rf_acc_test, svm_acc_test, ann_acc_test]\n",
    "plt.bar(titles, acc_test, color=colors)\n",
    "plt.title('Accuracy Comparison (Test)')\n",
    "plt.xlabel('Models')\n",
    "plt.ylabel('Accuracy')"
   ]
  },
  {
   "cell_type": "markdown",
   "metadata": {},
   "source": [
    "### Comparison Between Normal and PCA (reduced data dimensions)\n",
    "as you can see pca makes models a little faster. changes accuracy a little (usually decreases it but sometimes increases it) <br>\n",
    "this decision was made because there are lots of useless data (black pixels) in pictures"
   ]
  },
  {
   "cell_type": "code",
   "execution_count": 160,
   "metadata": {},
   "outputs": [
    {
     "data": {
      "text/plain": [
       "Text(0, 0.5, 'Accuracy')"
      ]
     },
     "execution_count": 160,
     "metadata": {},
     "output_type": "execute_result"
    },
    {
     "data": {
      "image/png": "[encoded data removed]",
      "text/plain": [
       "<Figure size 640x480 with 1 Axes>"
      ]
     },
     "metadata": {},
     "output_type": "display_data"
    }
   ],
   "source": [
    "titles = [\"KNN\", \"KNN(PCA)\", \"RF\", \"RF(PCA)\", \"SVM\", \"SVM(PCA)\", \"ANN\", \"ANN(PCA)\"]\n",
    "colors = [\"#005EBB\", \"#005EBB\", \"#0055AA\", \"#0055AA\", \"#004D99\", \"#004D99\", \"#004488\", \"#004488\"]\n",
    "\n",
    "acc_train = [knn_acc_train, knn_acc_train_pca, rf_acc_train, rf_acc_train_pca, svm_acc_train, svm_acc_train_pca, ann_acc_train, ann_acc_train_pca]\n",
    "plt.bar(titles, acc_train, color=colors)\n",
    "plt.title('Accuracy Comparison (Train)')\n",
    "plt.xlabel('Models')\n",
    "plt.ylabel('Accuracy')"
   ]
  },
  {
   "cell_type": "code",
   "execution_count": 161,
   "metadata": {},
   "outputs": [
    {
     "data": {
      "text/plain": [
       "Text(0, 0.5, 'Accuracy')"
      ]
     },
     "execution_count": 161,
     "metadata": {},
     "output_type": "execute_result"
    },
    {
     "data": {
      "image/png": "[encoded data removed]",
      "text/plain": [
       "<Figure size 640x480 with 1 Axes>"
      ]
     },
     "metadata": {},
     "output_type": "display_data"
    }
   ],
   "source": [
    "acc_test = [knn_acc_test, knn_acc_test_pca, rf_acc_test, rf_acc_test_pca, svm_acc_test, svm_acc_test_pca, ann_acc_test, ann_acc_test_pca]\n",
    "plt.bar(titles, acc_test, color=colors)\n",
    "plt.title('Accuracy Comparison (Test)')\n",
    "plt.xlabel('Models')\n",
    "plt.ylabel('Accuracy')"
   ]
  },
  {
   "cell_type": "code",
   "execution_count": null,
   "metadata": {},
   "outputs": [],
   "source": []
  }
 ],
 "metadata": {
  "kernelspec": {
   "display_name": "Python 3",
   "language": "python",
   "name": "python3"
  },
  "language_info": {
   "codemirror_mode": {
    "name": "ipython",
    "version": 3
   },
   "file_extension": ".py",
   "mimetype": "text/x-python",
   "name": "python",
   "nbconvert_exporter": "python",
   "pygments_lexer": "ipython3",
   "version": "3.10.12"
  }
 },
 "nbformat": 4,
 "nbformat_minor": 2
}
